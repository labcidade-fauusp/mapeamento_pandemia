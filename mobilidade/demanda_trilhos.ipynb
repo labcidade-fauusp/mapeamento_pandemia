{
 "cells": [
  {
   "cell_type": "markdown",
   "metadata": {},
   "source": [
    "# Agregar dados de demanda de transporte sobre trilhos\n",
    "Este jupyter notebook agrega dados obtidos das operadoras de transporte sobre trilhos de São Paulo"
   ]
  },
  {
   "cell_type": "code",
   "execution_count": 2,
   "metadata": {},
   "outputs": [],
   "source": [
    "import pandas as pd\n",
    "import os\n",
    "import seaborn as sns\n",
    "import matplotlib.pyplot as plt\n",
    "import tabula"
   ]
  },
  {
   "cell_type": "code",
   "execution_count": 3,
   "metadata": {},
   "outputs": [],
   "source": [
    "nome_meses = {\n",
    "    'JAN': '01',\n",
    "    'FEV': '02',\n",
    "    'MAR': '03',\n",
    "    'ABR': '04',\n",
    "    'MAI': '05',\n",
    "    'JUN': '06',\n",
    "    'JUL': '07',\n",
    "    'AGO': '08',\n",
    "    'SET': '09',\n",
    "    'OUT': '10',\n",
    "    'NOV': '11',\n",
    "    'DEZ': '12',\n",
    "}"
   ]
  },
  {
   "cell_type": "markdown",
   "metadata": {},
   "source": [
    "### Metrô"
   ]
  },
  {
   "cell_type": "code",
   "execution_count": 4,
   "metadata": {},
   "outputs": [],
   "source": [
    "df_metro = pd.DataFrame()"
   ]
  },
  {
   "cell_type": "code",
   "execution_count": 5,
   "metadata": {},
   "outputs": [],
   "source": [
    "for n_ano in ['2019','2020']:\n",
    "    files = [f'metro/{n_ano}/{i}' for i in os.listdir(f'metro/{n_ano}')]\n",
    "    for f in files:\n",
    "        n_mes = nome_meses[f.split('-')[-1].strip()[:3].upper()]\n",
    "        df = pd.read_csv(f, sep=';', encoding='latin-1', skiprows=4)\n",
    "        df = df.iloc[:,0:8]\n",
    "        df.dropna(inplace=True)\n",
    "\n",
    "        dfmes = pd.DataFrame()\n",
    "        for n in [0, 2, 4, 6]:\n",
    "            dflinha = df.iloc[1:-1,n:n+2]\n",
    "            n_linha = int(''.join([x for x in dflinha.columns[0] if x.isdigit()]))\n",
    "            dflinha.set_axis(['estacao', 'demanda'], axis=1, inplace=True)\n",
    "            dflinha['linha'] = n_linha\n",
    "            dfmes = pd.concat([dfmes, dflinha])\n",
    "\n",
    "        dfmes['data'] = f'{n_ano}-{n_mes}'\n",
    "        dfmes['estacao'] = dfmes['estacao'].apply(lambda x: ''.join([t for t in x.strip() if not t.isdigit()]))\n",
    "        dfmes.query('estacao != \"-\"', inplace=True)\n",
    "        dfmes['demanda'] = dfmes['demanda'].apply(lambda x: x.strip())\n",
    "        dfmes['demanda'] = dfmes['demanda'].replace('-',0)\n",
    "        dfmes['demanda'] = dfmes['demanda'].apply(lambda x: x.replace(',','.') if isinstance(x, str) else x)\n",
    "        dfmes['demanda'] = dfmes['demanda'].apply(lambda x: 1000*int(x))\n",
    "        df_metro = pd.concat([df_metro, dfmes])\n",
    "\n",
    "for n_ano in ['2021','2022']:\n",
    "    files = [f'metro/{n_ano}/{i}' for i in os.listdir(f'metro/{n_ano}')]\n",
    "    for f in files:\n",
    "        df = pd.read_csv(f, sep=';', encoding='latin-1')\n",
    "        df['estacao'] = df['estacao'].apply(lambda x: ''.join([t for t in x.strip() if not t.isdigit()]))\n",
    "        df = df.set_index(['linha','estacao']).stack().reset_index().rename(columns = {'level_2':'data', 0:'demanda'})\n",
    "        df['demanda'] = df['demanda'].apply(lambda x: 1000*int(x))\n",
    "        df_metro = pd.concat([df_metro, df])\n",
    "\n",
    "df_metro = df_metro.sort_values(by='data')"
   ]
  },
  {
   "cell_type": "markdown",
   "metadata": {},
   "source": [
    "### ViaMobilidade"
   ]
  },
  {
   "cell_type": "code",
   "execution_count": 6,
   "metadata": {},
   "outputs": [],
   "source": [
    "df_viamob = pd.DataFrame()\n",
    "\n",
    "for n_ano in ['2019','2020','2021','2022']:\n",
    "    files = [f'viamobilidade/{n_ano}/{i}' for i in os.listdir(f'viamobilidade/{n_ano}')]\n",
    "\n",
    "    for f in files:\n",
    "        n_mes = nome_meses[f.replace('-','_').split('_')[-1].strip()[:3].upper()]\n",
    "        df = tabula.read_pdf(f, pages='all')[0]\n",
    "        df = df.iloc[:,0:8]\n",
    "        df.dropna(inplace=True)\n",
    "\n",
    "        dfmes = pd.DataFrame()\n",
    "        for n in [0]:\n",
    "            dflinha = df.iloc[1:-1,n:n+2]\n",
    "            n_linha = int(''.join([x for x in dflinha.columns[0] if x.isdigit()]))\n",
    "            dflinha.set_axis(['estacao', 'demanda'], axis=1, inplace=True)\n",
    "            dflinha['linha'] = n_linha\n",
    "            dfmes = pd.concat([dfmes, dflinha])\n",
    "\n",
    "        dfmes['data'] = f'{n_ano}-{n_mes}'\n",
    "        dfmes['estacao'] = dfmes['estacao'].apply(lambda x: ''.join([t for t in x.strip() if not t.isdigit()]))\n",
    "        dfmes.query('estacao != \"-\"', inplace=True)\n",
    "        dfmes['demanda'] = dfmes['demanda'].replace('-',0)\n",
    "        dfmes['demanda'] = dfmes['demanda'].apply(lambda x: x.replace(',','.') if isinstance(x, str) else x)\n",
    "        dfmes['demanda'] = dfmes['demanda'].apply(lambda x: 1000*float(x))\n",
    "        df_viamob = pd.concat([df_viamob, dfmes])\n",
    "df_viamob = df_viamob.sort_values(by='data')"
   ]
  },
  {
   "cell_type": "markdown",
   "metadata": {},
   "source": [
    "### ViaQuatro"
   ]
  },
  {
   "cell_type": "code",
   "execution_count": 7,
   "metadata": {
    "tags": []
   },
   "outputs": [],
   "source": [
    "df_viaquatro = pd.DataFrame()\n",
    "\n",
    "for n_ano in ['2019','2020','2021','2022']:\n",
    "    files = [f'viaquatro/{n_ano}/{i}' for i in os.listdir(f'viaquatro/{n_ano}')]\n",
    "\n",
    "    for f in files:\n",
    "        n_mes = nome_meses[f.split('-')[-1].strip()[:3].upper()]\n",
    "        df = tabula.read_pdf(f, pages='all')[0]\n",
    "        df = df.iloc[:,0:8]\n",
    "        df.dropna(inplace=True)\n",
    "\n",
    "        dfmes = pd.DataFrame()\n",
    "        for n in [0]:\n",
    "            dflinha = df.iloc[1:-1,n:n+2]\n",
    "            n_linha = int(''.join([x for x in dflinha.columns[0] if x.isdigit()]))\n",
    "            dflinha.set_axis(['estacao', 'demanda'], axis=1, inplace=True)\n",
    "            dflinha['linha'] = n_linha\n",
    "            dfmes = pd.concat([dfmes, dflinha])\n",
    "\n",
    "        dfmes['data'] = f'{n_ano}-{n_mes}'\n",
    "        dfmes['estacao'] = dfmes['estacao'].apply(lambda x: ''.join([t for t in x.strip() if not t.isdigit()]))\n",
    "        dfmes.query('estacao != \"-\"', inplace=True)\n",
    "        dfmes['demanda'] = dfmes['demanda'].replace('-',0)\n",
    "        dfmes['demanda'] = dfmes['demanda'].apply(lambda x: x.replace(',','.'))\n",
    "        dfmes['demanda'] = dfmes['demanda'].apply(lambda x: 1000*float(x))\n",
    "        df_viaquatro = pd.concat([df_viaquatro, dfmes])\n",
    "df_viaquatro = df_viaquatro.sort_values(by='data')"
   ]
  },
  {
   "cell_type": "markdown",
   "metadata": {},
   "source": [
    "### Junção"
   ]
  },
  {
   "cell_type": "code",
   "execution_count": 12,
   "metadata": {},
   "outputs": [
    {
     "data": {
      "text/html": [
       "<div>\n",
       "<style scoped>\n",
       "    .dataframe tbody tr th:only-of-type {\n",
       "        vertical-align: middle;\n",
       "    }\n",
       "\n",
       "    .dataframe tbody tr th {\n",
       "        vertical-align: top;\n",
       "    }\n",
       "\n",
       "    .dataframe thead th {\n",
       "        text-align: right;\n",
       "    }\n",
       "</style>\n",
       "<table border=\"1\" class=\"dataframe\">\n",
       "  <thead>\n",
       "    <tr style=\"text-align: right;\">\n",
       "      <th></th>\n",
       "      <th>estacao</th>\n",
       "      <th>demanda</th>\n",
       "      <th>linha</th>\n",
       "      <th>data</th>\n",
       "    </tr>\n",
       "  </thead>\n",
       "  <tbody>\n",
       "    <tr>\n",
       "      <th>23</th>\n",
       "      <td>Tucuruvi</td>\n",
       "      <td>62000.0</td>\n",
       "      <td>1</td>\n",
       "      <td>2019-01</td>\n",
       "    </tr>\n",
       "    <tr>\n",
       "      <th>22</th>\n",
       "      <td>Parada Inglesa</td>\n",
       "      <td>14000.0</td>\n",
       "      <td>1</td>\n",
       "      <td>2019-01</td>\n",
       "    </tr>\n",
       "    <tr>\n",
       "      <th>21</th>\n",
       "      <td>Jardim São Paulo-Ayrton Senna</td>\n",
       "      <td>12000.0</td>\n",
       "      <td>1</td>\n",
       "      <td>2019-01</td>\n",
       "    </tr>\n",
       "    <tr>\n",
       "      <th>20</th>\n",
       "      <td>Santana</td>\n",
       "      <td>57000.0</td>\n",
       "      <td>1</td>\n",
       "      <td>2019-01</td>\n",
       "    </tr>\n",
       "    <tr>\n",
       "      <th>19</th>\n",
       "      <td>Carandiru</td>\n",
       "      <td>13000.0</td>\n",
       "      <td>1</td>\n",
       "      <td>2019-01</td>\n",
       "    </tr>\n",
       "    <tr>\n",
       "      <th>...</th>\n",
       "      <td>...</td>\n",
       "      <td>...</td>\n",
       "      <td>...</td>\n",
       "      <td>...</td>\n",
       "    </tr>\n",
       "    <tr>\n",
       "      <th>589</th>\n",
       "      <td>Camilo Haddad</td>\n",
       "      <td>3000.0</td>\n",
       "      <td>15</td>\n",
       "      <td>2022-10</td>\n",
       "    </tr>\n",
       "    <tr>\n",
       "      <th>579</th>\n",
       "      <td>São Lucas</td>\n",
       "      <td>5000.0</td>\n",
       "      <td>15</td>\n",
       "      <td>2022-10</td>\n",
       "    </tr>\n",
       "    <tr>\n",
       "      <th>569</th>\n",
       "      <td>Oratório</td>\n",
       "      <td>5000.0</td>\n",
       "      <td>15</td>\n",
       "      <td>2022-10</td>\n",
       "    </tr>\n",
       "    <tr>\n",
       "      <th>559</th>\n",
       "      <td>Vila Prudente</td>\n",
       "      <td>52000.0</td>\n",
       "      <td>15</td>\n",
       "      <td>2022-10</td>\n",
       "    </tr>\n",
       "    <tr>\n",
       "      <th>659</th>\n",
       "      <td>Jardim Colonial</td>\n",
       "      <td>5000.0</td>\n",
       "      <td>15</td>\n",
       "      <td>2022-10</td>\n",
       "    </tr>\n",
       "  </tbody>\n",
       "</table>\n",
       "<p>4220 rows × 4 columns</p>\n",
       "</div>"
      ],
      "text/plain": [
       "                           estacao  demanda  linha     data\n",
       "23                        Tucuruvi  62000.0      1  2019-01\n",
       "22                  Parada Inglesa  14000.0      1  2019-01\n",
       "21   Jardim São Paulo-Ayrton Senna  12000.0      1  2019-01\n",
       "20                         Santana  57000.0      1  2019-01\n",
       "19                       Carandiru  13000.0      1  2019-01\n",
       "..                             ...      ...    ...      ...\n",
       "589                  Camilo Haddad   3000.0     15  2022-10\n",
       "579                      São Lucas   5000.0     15  2022-10\n",
       "569                       Oratório   5000.0     15  2022-10\n",
       "559                  Vila Prudente  52000.0     15  2022-10\n",
       "659                Jardim Colonial   5000.0     15  2022-10\n",
       "\n",
       "[4220 rows x 4 columns]"
      ]
     },
     "execution_count": 12,
     "metadata": {},
     "output_type": "execute_result"
    }
   ],
   "source": [
    "df_demanda = pd.concat([df_metro, df_viamob, df_viaquatro])\n",
    "df_demanda = df_demanda.sort_values(by=['linha', 'data'])\n",
    "df_demanda['estacao'] = df_demanda['estacao'].replace('Japão-Liberdade','Liberdade')\n",
    "df_demanda"
   ]
  },
  {
   "cell_type": "code",
   "execution_count": 17,
   "metadata": {},
   "outputs": [],
   "source": [
    "df_agg = df_demanda.pivot_table(index='estacao', columns='data' ,values='demanda', aggfunc='sum').reset_index()\n",
    "df_agg.to_csv('agregado estações.csv', index=False, sep='\\t')"
   ]
  }
 ],
 "metadata": {
  "kernelspec": {
   "display_name": "Python 3 (ipykernel)",
   "language": "python",
   "name": "python3"
  },
  "language_info": {
   "codemirror_mode": {
    "name": "ipython",
    "version": 3
   },
   "file_extension": ".py",
   "mimetype": "text/x-python",
   "name": "python",
   "nbconvert_exporter": "python",
   "pygments_lexer": "ipython3",
   "version": "3.9.7"
  }
 },
 "nbformat": 4,
 "nbformat_minor": 4
}
